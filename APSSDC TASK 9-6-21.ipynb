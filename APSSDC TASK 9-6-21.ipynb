{
 "cells": [
  {
   "cell_type": "code",
   "execution_count": 1,
   "id": "3dc2d45a",
   "metadata": {},
   "outputs": [
    {
     "name": "stdout",
     "output_type": "stream",
     "text": [
      "Enter you roll number: 21\n",
      "Ece Dept\n"
     ]
    }
   ],
   "source": [
    "\n",
    "string1= input(\"Enter you roll number: \")\n",
    "string1[-3:]\n",
    "if (string1[-3:].startswith('01')):\n",
    "    print(\"Cse Dept\")\n",
    "elif (string1[-3:].startswith('11')):\n",
    "    print(\"IT Dept\")\n",
    "elif (string1[-3:].startswith('21')):\n",
    "    print(\"Ece Dept\")\n",
    "else:\n",
    "    print(\"Not an SRM student\")"
   ]
  },
  {
   "cell_type": "code",
   "execution_count": 2,
   "id": "deac503c",
   "metadata": {},
   "outputs": [
    {
     "name": "stdout",
     "output_type": "stream",
     "text": [
      "Enter you roll number: 11\n",
      "IT Dept\n"
     ]
    }
   ],
   "source": [
    "\n",
    "string1= input(\"Enter you roll number: \")\n",
    "string1[-3:]\n",
    "if (string1[-3:].startswith('01')):\n",
    "    print(\"Cse Dept\")\n",
    "elif (string1[-3:].startswith('11')):\n",
    "    print(\"IT Dept\")\n",
    "elif (string1[-3:].startswith('21')):\n",
    "    print(\"Ece Dept\")\n",
    "else:\n",
    "    print(\"Not an SRM student\")"
   ]
  },
  {
   "cell_type": "code",
   "execution_count": 3,
   "id": "a6da2b11",
   "metadata": {},
   "outputs": [
    {
     "name": "stdout",
     "output_type": "stream",
     "text": [
      "Enter you roll number: 84\n",
      "Not an SRM student\n"
     ]
    }
   ],
   "source": [
    "\n",
    "string1= input(\"Enter you roll number: \")\n",
    "string1[-3:]\n",
    "if (string1[-3:].startswith('01')):\n",
    "    print(\"Cse Dept\")\n",
    "elif (string1[-3:].startswith('11')):\n",
    "    print(\"IT Dept\")\n",
    "elif (string1[-3:].startswith('21')):\n",
    "    print(\"Ece Dept\")\n",
    "else:\n",
    "    print(\"Not an SRM student\")"
   ]
  },
  {
   "cell_type": "code",
   "execution_count": 4,
   "id": "3964c61f",
   "metadata": {},
   "outputs": [
    {
     "name": "stdout",
     "output_type": "stream",
     "text": [
      "Enter you roll number: 01\n",
      "Cse Dept\n"
     ]
    }
   ],
   "source": [
    "\n",
    "string1= input(\"Enter you roll number: \")\n",
    "string1[-3:]\n",
    "if (string1[-3:].startswith('01')):\n",
    "    print(\"Cse Dept\")\n",
    "elif (string1[-3:].startswith('11')):\n",
    "    print(\"IT Dept\")\n",
    "elif (string1[-3:].startswith('21')):\n",
    "    print(\"Ece Dept\")\n",
    "else:\n",
    "    print(\"Not an SRM student\")"
   ]
  }
 ],
 "metadata": {
  "kernelspec": {
   "display_name": "Python 3",
   "language": "python",
   "name": "python3"
  },
  "language_info": {
   "codemirror_mode": {
    "name": "ipython",
    "version": 3
   },
   "file_extension": ".py",
   "mimetype": "text/x-python",
   "name": "python",
   "nbconvert_exporter": "python",
   "pygments_lexer": "ipython3",
   "version": "3.8.8"
  }
 },
 "nbformat": 4,
 "nbformat_minor": 5
}
