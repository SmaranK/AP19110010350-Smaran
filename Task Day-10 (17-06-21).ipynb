{
 "cells": [
  {
   "cell_type": "markdown",
   "id": "a48637fb",
   "metadata": {},
   "source": [
    "# Task Day-10 (17-06-21)\n",
    "Generate a 3 digit OTP from 2 different Classes Mail class and Phone class return 6 digit OTP from both Base classes\n",
    "\n",
    "3-Digit OTP from two different classes(Mail Class & Phone Class)\n"
   ]
  },
  {
   "cell_type": "code",
   "execution_count": 2,
   "id": "0f54734f",
   "metadata": {},
   "outputs": [],
   "source": [
    "import random\n",
    "class Mail:\n",
    "    def __init__(otp):\n",
    "        otp.v1 = 000\n",
    "        otp.v2 = 999\n",
    "    def m(otp):\n",
    "            print(\"3-Digit OTP:\", random.randint(otp.v1,otp.v2))\n",
    "        \n",
    "class Phone(Mail):\n",
    "    def p(otp):\n",
    "        print(\"3-Digit OTP:\", random.randint(otp.v1,otp.v2))\n"
   ]
  },
  {
   "cell_type": "code",
   "execution_count": 3,
   "id": "41cb11d6",
   "metadata": {},
   "outputs": [
    {
     "name": "stdout",
     "output_type": "stream",
     "text": [
      "3-Digit OTP: 458\n"
     ]
    }
   ],
   "source": [
    "obj_1 = Mail()\n",
    "obj_1.m()"
   ]
  },
  {
   "cell_type": "code",
   "execution_count": 7,
   "id": "675ff44f",
   "metadata": {},
   "outputs": [
    {
     "name": "stdout",
     "output_type": "stream",
     "text": [
      "3-Digit OTP: 237\n"
     ]
    }
   ],
   "source": [
    "obj_2=Phone()\n",
    "obj_2.p()"
   ]
  },
  {
   "cell_type": "code",
   "execution_count": 8,
   "id": "2c1d9e0e",
   "metadata": {},
   "outputs": [
    {
     "name": "stdout",
     "output_type": "stream",
     "text": [
      "6-Digit OTP: 158 445\n"
     ]
    }
   ],
   "source": [
    "import random\n",
    "class Mail:\n",
    "    def __init__(otp):\n",
    "        otp.a = random.randint(000,999)\n",
    "class Phone:\n",
    "    def __init__(otp):\n",
    "        otp.b = random.randint(000,999)\n",
    "        \n",
    "class Ali(Phone,Mail):\n",
    "    def __init__(otp):\n",
    "        Mail.__init__(otp)\n",
    "        Phone.__init__(otp)\n",
    "        print(\"6-Digit OTP:\",otp.a,otp.b)\n",
    "obj_1=Ali()\n"
   ]
  }
 ],
 "metadata": {
  "kernelspec": {
   "display_name": "Python 3",
   "language": "python",
   "name": "python3"
  },
  "language_info": {
   "codemirror_mode": {
    "name": "ipython",
    "version": 3
   },
   "file_extension": ".py",
   "mimetype": "text/x-python",
   "name": "python",
   "nbconvert_exporter": "python",
   "pygments_lexer": "ipython3",
   "version": "3.8.8"
  }
 },
 "nbformat": 4,
 "nbformat_minor": 5
}
