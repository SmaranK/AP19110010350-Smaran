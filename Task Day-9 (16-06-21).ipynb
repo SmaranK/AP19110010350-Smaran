{
 "cells": [
  {
   "cell_type": "markdown",
   "id": "41dbcb5b",
   "metadata": {},
   "source": [
    "# Task Day-9 (16-06-21)\n",
    "Write a program in module\n",
    "\n",
    "Ask the user to enter the data\n",
    "\n",
    "Check the data if it's camelcase print like(Thumbsup)emoji\n",
    "\n",
    "else convert the data into camelcase then speakout successfully converted your data into camelcase"
   ]
  },
  {
   "cell_type": "code",
   "execution_count": 2,
   "id": "a772f0dd",
   "metadata": {},
   "outputs": [],
   "source": [
    "import emoji\n",
    "import camelcase\n",
    "import pyttsx3\n",
    "\n",
    "def info(data):\n",
    "    x=camelcase.CamelCase()\n",
    "    if data==x.hump(data):\n",
    "        return emoji.emojize(\"The sentence is in camel case :thumbsup:\", use_aliases = True)\n",
    "    else:\n",
    "        spk = pyttsx3.init()\n",
    "        spk.say(\"Successfully converted your data into camelcase\")\n",
    "        spk.runAndWait()\n",
    "        return \"The sentence in camel case:\", x.hump(data)\n"
   ]
  },
  {
   "cell_type": "markdown",
   "id": "c2fc82a5",
   "metadata": {},
   "source": [
    "Test Case-1 : Data in Camelcase"
   ]
  },
  {
   "cell_type": "code",
   "execution_count": 4,
   "id": "167687c2",
   "metadata": {},
   "outputs": [
    {
     "name": "stdout",
     "output_type": "stream",
     "text": [
      "Enter your data: Smaran\n",
      "The sentence is in camel case 👍\n"
     ]
    }
   ],
   "source": [
    "data = input(\"Enter your data: \")\n",
    "print(info(data))\n"
   ]
  },
  {
   "cell_type": "markdown",
   "id": "88e99422",
   "metadata": {},
   "source": [
    "Test Case-2 : Data not in Camelcase"
   ]
  },
  {
   "cell_type": "code",
   "execution_count": 5,
   "id": "b1c52bef",
   "metadata": {},
   "outputs": [
    {
     "name": "stdout",
     "output_type": "stream",
     "text": [
      "Enter your data: smaran\n",
      "('The sentence in camel case:', 'Smaran')\n"
     ]
    }
   ],
   "source": [
    "data = input(\"Enter your data: \")\n",
    "print(info(data))\n"
   ]
  }
 ],
 "metadata": {
  "kernelspec": {
   "display_name": "Python 3",
   "language": "python",
   "name": "python3"
  },
  "language_info": {
   "codemirror_mode": {
    "name": "ipython",
    "version": 3
   },
   "file_extension": ".py",
   "mimetype": "text/x-python",
   "name": "python",
   "nbconvert_exporter": "python",
   "pygments_lexer": "ipython3",
   "version": "3.8.8"
  }
 },
 "nbformat": 4,
 "nbformat_minor": 5
}
