{
 "cells": [
  {
   "cell_type": "code",
   "execution_count": 1,
   "id": "aae852ad",
   "metadata": {},
   "outputs": [
    {
     "name": "stdout",
     "output_type": "stream",
     "text": [
      "Enter your age: 84\n",
      "You are elgible to vote\n"
     ]
    }
   ],
   "source": [
    "# Write a program to check if the user is elgible to vote or not.\n",
    "\n",
    "age = int(input(\"Enter your age: \"))\n",
    "if age >= 18:\n",
    "    print(\"You are elgible to vote\")\n",
    "if age < 18:\n",
    "    print(\"You are not elgible to vote\")"
   ]
  },
  {
   "cell_type": "code",
   "execution_count": 2,
   "id": "23f4b501",
   "metadata": {},
   "outputs": [
    {
     "name": "stdout",
     "output_type": "stream",
     "text": [
      "Enter a number: -58\n",
      "The given number is negative\n"
     ]
    }
   ],
   "source": [
    "#Write a program  to check if the given number is positive or not\n",
    "\n",
    "\n",
    "num = float(input(\"Enter a number: \"))\n",
    "if num >= 0:\n",
    "    print(\"The given number is positive\")\n",
    "else:\n",
    "    print(\"The given number is negative\")"
   ]
  },
  {
   "cell_type": "code",
   "execution_count": 3,
   "id": "d2d72a8b",
   "metadata": {},
   "outputs": [
    {
     "name": "stdout",
     "output_type": "stream",
     "text": [
      "Enter a number: 54\n",
      "The given number is even\n"
     ]
    }
   ],
   "source": [
    "#Check the given number is odd or even, if it's even then check if it is also divisible by 4 or not\n",
    "\n",
    "\n",
    "a = int(input(\"Enter a number: \"))\n",
    "if(a % 2) == 0:\n",
    "    print(\"The given number is even\")\n",
    "else:\n",
    "    print(\"The given number is odd\")\n",
    "if((a % 4) == 0):\n",
    "    print(\"The given number is even and divisible by 4\")"
   ]
  },
  {
   "cell_type": "code",
   "execution_count": 4,
   "id": "41567999",
   "metadata": {},
   "outputs": [
    {
     "name": "stdout",
     "output_type": "stream",
     "text": [
      "Enter your marks: 54\n",
      "Pass\n"
     ]
    }
   ],
   "source": [
    "#write a program to print student grade based on percentage\n",
    "\n",
    "\n",
    "x = float(input(\"Enter your marks: \"))\n",
    "if x <= 35:\n",
    "    print(\"Fail\")\n",
    "if (x > 35) & (x <= 75):\n",
    "    print(\"Pass\")\n",
    "if (x > 75) & (x <= 100):\n",
    "    print(\"Passed with distinction\")"
   ]
  },
  {
   "cell_type": "code",
   "execution_count": 7,
   "id": "19565e34",
   "metadata": {},
   "outputs": [
    {
     "name": "stdout",
     "output_type": "stream",
     "text": [
      "Enter the year: 2016\n",
      "2016 is a leap year\n"
     ]
    }
   ],
   "source": [
    "#check the given year is leap year or not\n",
    "\n",
    "\n",
    "\n",
    "year = int(input(\"Enter the year: \"))\n",
    "if (year % 4) == 0:\n",
    "    if (year % 100) == 0:\n",
    "        if (year % 400) == 0:\n",
    "            print(\"{0} is a leap year\".format(year))\n",
    "        else:\n",
    "            print(\"{0} is not a leap year\".format(year))\n",
    "    else:\n",
    "        print(\"{0} is a leap year\".format(year))\n",
    "else:\n",
    "    print(\"{0} is not a leap year\".format(year))"
   ]
  }
 ],
 "metadata": {
  "kernelspec": {
   "display_name": "Python 3",
   "language": "python",
   "name": "python3"
  },
  "language_info": {
   "codemirror_mode": {
    "name": "ipython",
    "version": 3
   },
   "file_extension": ".py",
   "mimetype": "text/x-python",
   "name": "python",
   "nbconvert_exporter": "python",
   "pygments_lexer": "ipython3",
   "version": "3.8.8"
  }
 },
 "nbformat": 4,
 "nbformat_minor": 5
}
