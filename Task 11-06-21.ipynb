{
 "cells": [
  {
   "cell_type": "code",
   "execution_count": 1,
   "id": "97f91ec3",
   "metadata": {},
   "outputs": [
    {
     "name": "stdout",
     "output_type": "stream",
     "text": [
      "The above lists have at least one common member: True\n"
     ]
    }
   ],
   "source": [
    "#case1 - True\n",
    "\n",
    "def common(x, y):\n",
    "    flag = False\n",
    "    for i in x:\n",
    "        if (i in y):\n",
    "            flag = True\n",
    "        else:\n",
    "            pass\n",
    "    return flag\n",
    "\n",
    "x = [1, 2, 3, 4, 5]\n",
    "y = [5, 6, 7, 8, 9]\n",
    "result = common(x, y)\n",
    "print('The above lists have at least one common member:',result)"
   ]
  },
  {
   "cell_type": "code",
   "execution_count": 2,
   "id": "73b0c0f0",
   "metadata": {},
   "outputs": [
    {
     "name": "stdout",
     "output_type": "stream",
     "text": [
      "The above lists have at least one common member: False\n"
     ]
    }
   ],
   "source": [
    "#case2 - False\n",
    "\n",
    "def common(x, y):\n",
    "    flag = False\n",
    "    for i in x:\n",
    "        if (i in y):\n",
    "            flag = True\n",
    "        else:\n",
    "            pass\n",
    "    return flag\n",
    "\n",
    "x = [1, 2, 3, 4]\n",
    "y = [5, 6, 7, 8]\n",
    "result = common(x, y)\n",
    "print('The above lists have at least one common member:',result)"
   ]
  }
 ],
 "metadata": {
  "kernelspec": {
   "display_name": "Python 3",
   "language": "python",
   "name": "python3"
  },
  "language_info": {
   "codemirror_mode": {
    "name": "ipython",
    "version": 3
   },
   "file_extension": ".py",
   "mimetype": "text/x-python",
   "name": "python",
   "nbconvert_exporter": "python",
   "pygments_lexer": "ipython3",
   "version": "3.8.8"
  }
 },
 "nbformat": 4,
 "nbformat_minor": 5
}
