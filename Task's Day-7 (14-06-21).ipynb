{
 "cells": [
  {
   "cell_type": "markdown",
   "id": "0df910af",
   "metadata": {},
   "source": [
    "# Day-7 (14-06-21) Task's\n",
    "Write a pattern to display 4 digit numbers from the list1\n",
    "\n",
    "list1 = [5841, 987654321, 453267, 1234, 675, 8797]\n",
    "\n"
   ]
  },
  {
   "cell_type": "code",
   "execution_count": 4,
   "id": "0030cc20",
   "metadata": {},
   "outputs": [
    {
     "name": "stdout",
     "output_type": "stream",
     "text": [
      "6321\n",
      "0707\n",
      "6969\n",
      "4200\n"
     ]
    }
   ],
   "source": [
    "import re\n",
    "\n",
    "\n",
    "list1 = ['6321', '789163873', '425162', '0707', '007', '6969', '128372234244', '1', '4200']\n",
    "for i in list1:\n",
    "    if re.findall('^[0-9]{4}$', i):\n",
    "        print(i)\n"
   ]
  },
  {
   "cell_type": "code",
   "execution_count": 5,
   "id": "2ea600f5",
   "metadata": {},
   "outputs": [
    {
     "name": "stdout",
     "output_type": "stream",
     "text": [
      "9876543210\n",
      "8123456789\n",
      "7890123456\n"
     ]
    }
   ],
   "source": [
    "#Validate a phone number using patterns.\n",
    "\n",
    "#ph_list = [9876543210, 8123456789, 7890123456, 789654, 1234567890]\n",
    "\n",
    "\n",
    "ph_list = ['9876543210', '8123456789', '7890123456', '789654', '1234567890']\n",
    "for i in ph_list:\n",
    "    if re.findall('[6-9]{1}[0-9]{9}$', i):\n",
    "        print(i)"
   ]
  }
 ],
 "metadata": {},
 "nbformat": 4,
 "nbformat_minor": 5
}
