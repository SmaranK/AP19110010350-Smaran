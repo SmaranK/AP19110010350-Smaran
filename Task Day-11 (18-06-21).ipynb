{
 "cells": [
  {
   "cell_type": "markdown",
   "id": "efe58758",
   "metadata": {},
   "source": [
    "# Task Day-11 (18-06-21)\n",
    "Task-1\n",
    "write a program for getting the last five line from the file\n"
   ]
  },
  {
   "cell_type": "code",
   "execution_count": 10,
   "id": "cd422794",
   "metadata": {},
   "outputs": [
    {
     "name": "stdout",
     "output_type": "stream",
     "text": [
      "Your Text File:\n",
      "line1 \n",
      "line2  \n",
      "line3  \n",
      "line4  \n",
      "line5  \n",
      "line6  \n",
      "line7  \n",
      "line8  \n",
      "line9  \n",
      "line10  \n",
      "\n"
     ]
    }
   ],
   "source": [
    "\n",
    "f = open(\"file.txt\",'w')\n",
    "f.write(\"line1 \\n\")\n",
    "f.write(\"line2  \\n\")\n",
    "f.write(\"line3  \\n\")\n",
    "f.write(\"line4  \\n\")\n",
    "f.write(\"line5  \\n\")\n",
    "f.write(\"line6  \\n\")\n",
    "f.write(\"line7  \\n\")\n",
    "f.write(\"line8  \\n\")\n",
    "f.write(\"line9  \\n\")\n",
    "f.write(\"line10  \\n\")\n",
    "\n",
    "f = open('file.txt')\n",
    "print(\"Your Text File:\")\n",
    "print(f.read())\n",
    "f.close()"
   ]
  },
  {
   "cell_type": "code",
   "execution_count": 12,
   "id": "e2683a2f",
   "metadata": {},
   "outputs": [
    {
     "name": "stdout",
     "output_type": "stream",
     "text": [
      "Last five lines from the file:\n",
      "['line6  \\n', 'line7  \\n', 'line8  \\n', 'line9  \\n', 'line10  \\n']\n"
     ]
    }
   ],
   "source": [
    "f = open(\"file.txt\", \"r\")\n",
    "l = f.readlines()\n",
    "s = l[-5:]\n",
    "print(\"Last five lines from the file:\")\n",
    "print(s)\n",
    "f.close()"
   ]
  },
  {
   "cell_type": "markdown",
   "id": "4190e022",
   "metadata": {},
   "source": [
    "# Task-2\n",
    "  Create a function for appending the data into the file.\n",
    " "
   ]
  },
  {
   "cell_type": "code",
   "execution_count": 14,
   "id": "2029cbe2",
   "metadata": {},
   "outputs": [
    {
     "name": "stdout",
     "output_type": "stream",
     "text": [
      "new_line1 \n",
      "new_line2 \n",
      "new_line3 \n",
      "\n"
     ]
    }
   ],
   "source": [
    "\n",
    "f = open('new_file.txt','w')\n",
    "f.write(\"new_line1 \\n\")\n",
    "f.write(\"new_line2 \\n\")\n",
    "f.write(\"new_line3 \\n\")\n",
    "f.close()\n",
    "\n",
    "f = open('new_file.txt')\n",
    "print(f.read())\n",
    "f.close()"
   ]
  },
  {
   "cell_type": "code",
   "execution_count": 16,
   "id": "4231ad57",
   "metadata": {},
   "outputs": [
    {
     "name": "stdout",
     "output_type": "stream",
     "text": [
      "appended data:\n",
      "new_line1 \n",
      "new_line2 \n",
      "new_line3 \n",
      "new_line4 \n",
      "new_line5 \n",
      "new_line4 \n",
      "new_line5 \n",
      "\n"
     ]
    }
   ],
   "source": [
    "def append():\n",
    "    f=open('new_file.txt', 'a+')\n",
    "    f.write(\"new_line4 \\n\")\n",
    "    f.write(\"new_line5 \\n\") \n",
    "    f.close()\n",
    "    \n",
    "append()\n",
    "\n",
    "f = open('new_file.txt')\n",
    "print(\"appended data:\")\n",
    "print(f.read())\n",
    "f.close()"
   ]
  },
  {
   "cell_type": "markdown",
   "id": "4803300c",
   "metadata": {},
   "source": [
    "# Task-3\n",
    "create a program for updating a word in the file\n"
   ]
  },
  {
   "cell_type": "code",
   "execution_count": 19,
   "id": "68ddb71b",
   "metadata": {},
   "outputs": [
    {
     "name": "stdout",
     "output_type": "stream",
     "text": [
      " Name   Uni    Roll_No \n",
      "Smaran SRM_AP 123 \n",
      "\n"
     ]
    }
   ],
   "source": [
    "import re\n",
    "f = open('file2.txt','w')\n",
    "f.write(\" Name   Uni    Roll_No \\n\")\n",
    "f.write(\"Smaran SRM_AP 123 \\n\")\n",
    "f.close()\n",
    "f = open('file2.txt')\n",
    "print(f.read())"
   ]
  },
  {
   "cell_type": "code",
   "execution_count": 20,
   "id": "bf141b9d",
   "metadata": {},
   "outputs": [
    {
     "name": "stdout",
     "output_type": "stream",
     "text": [
      "Updated Data: AP19110010350\n",
      " Name   Uni    Roll_No \n",
      "Smaran SRM_AP AP19110010350 \n",
      "\n"
     ]
    }
   ],
   "source": [
    "with open('file2.txt','r+') as f:\n",
    "    text = f.read()\n",
    "    text = re.sub('123', input(\"Updated Data: \"), text)\n",
    "    f.seek(0)\n",
    "    f.write(text)\n",
    "    f.truncate()\n",
    "f = open('file2.txt')\n",
    "print(f.read())"
   ]
  }
 ],
 "metadata": {},
 "nbformat": 4,
 "nbformat_minor": 5
}
